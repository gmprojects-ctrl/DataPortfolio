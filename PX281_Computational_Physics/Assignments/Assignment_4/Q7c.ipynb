{
 "cells": [
  {
   "cell_type": "markdown",
   "metadata": {},
   "source": [
    "Before you turn this problem in, make sure everything runs as expected. First, **restart the kernel** (in the menubar, select Kernel$\\rightarrow$Restart) and then **run all cells** (in the menubar, select Cell$\\rightarrow$Run All).\n",
    "\n",
    "Make sure you fill in any place that says `YOUR CODE HERE` or \"YOUR ANSWER HERE\".\n",
    "\n",
    "Do not edit or insert code into the test cells as all you insert will be overwritten by the automated testing code."
   ]
  },
  {
   "cell_type": "markdown",
   "metadata": {},
   "source": [
    "---"
   ]
  },
  {
   "cell_type": "markdown",
   "metadata": {
    "deletable": false,
    "editable": false,
    "nbgrader": {
     "cell_type": "markdown",
     "checksum": "3b87640dc2549c849765af5a208bf55e",
     "grade": false,
     "grade_id": "cell-9e0402d8e861a64e",
     "locked": true,
     "schema_version": 3,
     "solution": false,
     "task": false
    }
   },
   "source": [
    "**Question 7**: The code in the cell below has errors. There are errors in style, warnings and convention errors. There are also errors preventing the code to run as intended. \n",
    "\n",
    "Your **task** is to find all mistakes, remove them, make the code function properly such that it presents a correct figure at the end and achieves a 10 out of 10 marks from the style checker. \n",
    "\n",
    "A brief text at the top of the code in comments explains what the code is meant to be doing. It is strongly recommended to start the exercise by copying the entire code to a separate python file and examine it in Spyder. The code checking should then improve your style mark and potentially give hints on errors which the style checker (and Spyder) can not detect.\n",
    "\n",
    "**Note A**: Leave the function names unchanged. Some will be assumed in tests. Constant values as given are all correct.\n",
    "\n",
    "**Note B**: Make sure you use the `pylintrc` file from Moodle. Every integer increase in the style mark (0 to 8, 8 to 9, 9 to 10) gains you one point on the style mark, i.e. up to 3 in total.\n",
    "\n",
    "**Note C**: This exercise involves random numbers hence every figure will look different. Getting a figure at all is already a success. Marking of figures is manual hence checks will be made to see whether a correct figure emerges even if that means running your code several times due to the built in randomness.\n",
    "\n",
    "**Note D**: The number of pulses produced follows the Poisson distribution and a single pulse is a valid outcome for the sequence. However, checking that your code works correctly, re-run until you see an example with Npulses>1 fully analysed. Only then can you be certain that all mistakes have been removed.\n",
    "\n",
    "**Note E**: Copy your final solution back into the cell below so that the tests can run."
   ]
  },
  {
   "cell_type": "code",
   "execution_count": 8,
   "metadata": {
    "deletable": false,
    "nbgrader": {
     "cell_type": "code",
     "checksum": "cae6dc1f20b6dc589c49d59093cae19b",
     "grade": false,
     "grade_id": "Q7Code",
     "locked": false,
     "schema_version": 3,
     "solution": true,
     "task": false
    }
   },
   "outputs": [
    {
     "name": "stdout",
     "output_type": "stream",
     "text": [
      "n pulses:  4\n",
      "npe:  1\n",
      "next onset:  518.7217303383754\n",
      "npe:  1\n",
      "in filtered:  [ 51.5 520. ]\n",
      "[ 4.93506122e+00  5.02798780e+01  3.46319379e-01  1.21545513e+03\n",
      " -2.80801819e+00  7.13883623e+02  1.45207176e+02  1.25259107e+03]\n"
     ]
    },
    {
     "name": "stderr",
     "output_type": "stream",
     "text": [
      "/tmp/ipykernel_10400/1713803542.py:34: RuntimeWarning: overflow encountered in exp\n",
      "  singlepulse = np.exp(-(time - start) / rt) - np.exp(-(time - start) / dt)\n",
      "/tmp/ipykernel_10400/1713803542.py:37: RuntimeWarning: overflow encountered in multiply\n",
      "  return -1 * amplitude * singlepulse\n"
     ]
    },
    {
     "data": {
      "image/png": "[encoded data removed]",
      "text/plain": [
       "<Figure size 432x288 with 1 Axes>"
      ]
     },
     "metadata": {
      "needs_background": "light"
     },
     "output_type": "display_data"
    }
   ],
   "source": [
    "'''\n",
    "SiPM single event modelling\n",
    "(a) Make a pulse, always 50 ns after the start of the event.\n",
    "(b) Randomly decide with the dark count rate how many\n",
    "    additional pulses should be created.\n",
    "(c) for more than zero, add additional pulses with random amplitude\n",
    "    in discrete units of scale and random position in time\n",
    "    according to exponential distribution and dark count rate.\n",
    "(d) Analyse event: first filter with matched filter and find peaks.\n",
    "(e) Use results on peak positions and number to fit all peaks,\n",
    "    especially if there are more than one.\n",
    "(f) Draw data and fit.\n",
    "'''\n",
    "\n",
    "import numpy as np\n",
    "import random\n",
    "import matplotlib.pyplot as plt\n",
    "from scipy.signal import find_peaks\n",
    "from scipy.optimize import curve_fit\n",
    "\n",
    "\n",
    "def matchedFilter(data, template):\n",
    "    return np.correlate(data, template, mode='full')\n",
    "\n",
    "\n",
    "def pulseSequence(t, *pos):\n",
    "    total = np.zeros_like(t)\n",
    "    for idx in range(0, len(pos) - 3, 4):  # superposition of pulses\n",
    "        total += pulse(t, pos[idx], pos[idx + 1], pos[idx + 2], pos[idx + 3])\n",
    "    return total\n",
    "\n",
    "\n",
    "def pulse(time, amplitude, start, rt, dt):\n",
    "    singlepulse = np.exp(-(time - start) / rt) - np.exp(-(time - start) / dt)\n",
    "    singlepulse[np.where(\n",
    "        time < start)] = 0.0  # not defined before onset time, set 0\n",
    "    return -1 * amplitude * singlepulse\n",
    "\n",
    "\n",
    "def makeTemplate(rt, dt):\n",
    "    timevalues = np.linspace(0, 50, 101)  # 0.05 mus, 0.5 unit step size\n",
    "    scale = 1.0  # some scale factor giving reasonable values\n",
    "    onset = 0.0  # pulse start [ns]\n",
    "    dummy = pulse(timevalues, scale, onset, rt, dt)\n",
    "    template = dummy / np.trapz(dummy, x=timevalues)  # normalized\n",
    "    return timevalues, template\n",
    "\n",
    "\n",
    "def dataProduction(time, cfg):\n",
    "    amp = cfg[0]  # some scale factor giving reasonable values\n",
    "    start = cfg[1]  # pulse start [ns]\n",
    "    rtime = cfg[2]  # realistic rise time\n",
    "    dtime = cfg[3]  # realistic decay time\n",
    "    noiselevel = cfg[4]  # noise level scale\n",
    "    dcr = cfg[5]  # [1/ns] => 2 MHz\n",
    "\n",
    "    framestop = time[-1]  # final time bin\n",
    "\n",
    "    Npulses = np.random.poisson(framestop * dcr)\n",
    "    print('n pulses: ', Npulses)\n",
    "\n",
    "    pp = pulse(time, amp, start, rtime, dtime)\n",
    "    noisy = np.random.normal(pp, scale=noiselevel)\n",
    "    frame = noisy  # first triggered pulse at onset\n",
    "    for _ in range(Npulses):  # additional pulses\n",
    "        npe = np.random.poisson(1.0)  # n photo electrons given DCR\n",
    "        print('npe: ', npe)\n",
    "        pretrigger = start\n",
    "        triggertime = random.expovariate(dcr)  # rate parameter\n",
    "        start = pretrigger + triggertime\n",
    "        if start > framestop - 300:\n",
    "            break\n",
    "        if npe > 0:\n",
    "            print('next onset: ', start)\n",
    "            pp = pulse(time, npe * amp, start, rtime, dtime)\n",
    "            frame += pp\n",
    "    return frame\n",
    "\n",
    "\n",
    "def analysis(tvalues, data, cfg):\n",
    "    scale = cfg[0]  # some scale factor giving reasonable values\n",
    "    rtime = cfg[2]  # realistic rise time\n",
    "    dtime = cfg[3]  # realistic decay time\n",
    "\n",
    "    # prepare the analysis with the matched filter - get a template pulse\n",
    "    time, tplt = makeTemplate(rtime, dtime)\n",
    "    time -= time[-1]\n",
    "    filtered = matchedFilter(result, tplt)  # filter\n",
    "    responsetime = np.concatenate((time[:-1], tvalues), axis=None)\n",
    "\n",
    "    # search the filtered result for peaks in response\n",
    "    peakfilt, _ = find_peaks(filtered, height=6.0, distance=6.0)\n",
    "    print('in filtered: ', responsetime[peakfilt])\n",
    "\n",
    "    # fit the pulse, try similar initial values to construction\n",
    "    # and the identified peak number and positions\n",
    "    if responsetime[peakfilt].size == 0:\n",
    "        return None  # failed peak finding\n",
    "    init = []\n",
    "\n",
    "    # construct the initial parameter array\n",
    "    for val in peakfilt:\n",
    "        init.append([scale, val, rtime, dtime])\n",
    "    try:\n",
    "        fitParams, _ = curve_fit(pulseSequence,\n",
    "                                 tvalues,\n",
    "                                 result,\n",
    "                                 p0=np.array(init))\n",
    "        print(fitParams)\n",
    "    except (RuntimeError, ValueError):\n",
    "        fitParams = None  # failed fit\n",
    "\n",
    "    return fitParams\n",
    "\n",
    "\n",
    "# Start main script\n",
    "# make a pulse, consider times in nano seconds [ns]\n",
    "timevalues = np.linspace(0, 1500, 3001)  # 1.5 mus, 0.5 unit step size\n",
    "scale = 10.0  # some scale factor giving reasonable values\n",
    "risetime = 2.0  # realistic rise time\n",
    "decaytime = 150.0  # realistic decay time\n",
    "onset = 50.0  # pulse start [ns]\n",
    "nlevel = 0.2  # noise level scale\n",
    "darkCountRate = 0.002  # [1/ns] => 2 MHz\n",
    "config = [scale, onset, risetime, decaytime, nlevel, darkCountRate]\n",
    "\n",
    "# Data production first\n",
    "result = dataProduction(timevalues, config)\n",
    "\n",
    "# then analyse the event\n",
    "bestfit = analysis(timevalues, result, config)\n",
    "\n",
    "# finally plotting\n",
    "plt.plot(timevalues, result, 'r-')\n",
    "if bestfit is not None:\n",
    "    plt.plot(timevalues, pulseSequence(timevalues, bestfit), 'b-')\n",
    "plt.title('SiPM pulse', size=12)\n",
    "plt.xlabel('Time [ns]', size=12)\n",
    "plt.ylabel('Amplitude [mV]', size=12)\n",
    "\n",
    "plt.show()\n"
   ]
  },
  {
   "cell_type": "code",
   "execution_count": 37,
   "metadata": {
    "deletable": false,
    "editable": false,
    "nbgrader": {
     "cell_type": "code",
     "checksum": "64ecdc25c4b0dc3ba8f5832fc51573ed",
     "grade": true,
     "grade_id": "Q7TestA",
     "locked": true,
     "points": 1,
     "schema_version": 3,
     "solution": false,
     "task": false
    }
   },
   "outputs": [],
   "source": [
    "# Test cell\n",
    "pp = pulse(timevalues, scale, onset, risetime, decaytime)\n",
    "mx = np.amax(pp)\n",
    "mi = np.amin(pp)\n",
    "assert(abs(mx)>abs(mi)), 'wrong pulse polarity'"
   ]
  },
  {
   "cell_type": "code",
   "execution_count": 26,
   "metadata": {
    "deletable": false,
    "editable": false,
    "nbgrader": {
     "cell_type": "code",
     "checksum": "6e707902651df9771eaaa530c2e63ce4",
     "grade": true,
     "grade_id": "Q7TestB",
     "locked": true,
     "points": 1,
     "schema_version": 3,
     "solution": false,
     "task": false
    }
   },
   "outputs": [],
   "source": [
    "# Hidden test cell, tests analysis function"
   ]
  },
  {
   "cell_type": "code",
   "execution_count": null,
   "metadata": {
    "deletable": false,
    "editable": false,
    "nbgrader": {
     "cell_type": "code",
     "checksum": "bf8a157da27028cb71ae17fd29225e87",
     "grade": true,
     "grade_id": "Q7testC",
     "locked": true,
     "points": 1,
     "schema_version": 3,
     "solution": false,
     "task": false
    }
   },
   "outputs": [],
   "source": [
    "# Hidden test cell, tests analysis function"
   ]
  },
  {
   "cell_type": "markdown",
   "metadata": {
    "deletable": false,
    "editable": false,
    "nbgrader": {
     "cell_type": "markdown",
     "checksum": "3951e33f387a8356d8212f6827c18314",
     "grade": false,
     "grade_id": "cell-54cce026439427de",
     "locked": true,
     "schema_version": 3,
     "solution": false,
     "task": false
    }
   },
   "source": [
    "### Tests - 3 marks; Style - 3 marks; Plot - 2 marks"
   ]
  }
 ],
 "metadata": {
  "kernelspec": {
   "display_name": "Python 3 (ipykernel)",
   "language": "python",
   "name": "python3"
  },
  "language_info": {
   "codemirror_mode": {
    "name": "ipython",
    "version": 3
   },
   "file_extension": ".py",
   "mimetype": "text/x-python",
   "name": "python",
   "nbconvert_exporter": "python",
   "pygments_lexer": "ipython3",
   "version": "3.9.7"
  }
 },
 "nbformat": 4,
 "nbformat_minor": 4
}
