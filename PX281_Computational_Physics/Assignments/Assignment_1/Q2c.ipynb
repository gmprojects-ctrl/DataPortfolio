{
 "cells": [
  {
   "cell_type": "markdown",
   "id": "3ffaea2f",
   "metadata": {},
   "source": [
    "Before you turn this problem in, make sure everything runs as expected. First, **restart the kernel** (in the menubar, select Kernel$\\rightarrow$Restart) and then **run all cells** (in the menubar, select Cell$\\rightarrow$Run All).\n",
    "\n",
    "Make sure you fill in any place that says `YOUR CODE HERE` or \"YOUR ANSWER HERE\".\n",
    "\n",
    "Do not edit or insert code into the test cells as all you insert will be overwritten by the automated testing code."
   ]
  },
  {
   "cell_type": "markdown",
   "id": "c9ce24bb",
   "metadata": {},
   "source": [
    "---"
   ]
  },
  {
   "cell_type": "markdown",
   "id": "0e90a9fa",
   "metadata": {
    "deletable": false,
    "editable": false,
    "nbgrader": {
     "cell_type": "markdown",
     "checksum": "4f6c14af45caa35c996a2ec82af4e4ca",
     "grade": false,
     "grade_id": "cell-f1f3f492ca9dfe0d",
     "locked": true,
     "schema_version": 3,
     "solution": false,
     "task": false
    }
   },
   "source": [
    "**Question 2**: The code in the cell below has errors. There are errors in style and errors preventing the code to run as intended. \n",
    "\n",
    "Your **task** is to find all mistakes, remove them, make the code function properly such that it presents a correct figure at the end and achieves a 10 out of 10 marks from the style checker. \n",
    "\n",
    "It is strongly recommended to start the exercise by copying the entire code to a separate python file and examine it in Spyder. The code checking should then improve your style mark.\n",
    "\n",
    "**Note A**: Leave the function names unchanged. Some may be assumed in tests. Constant values as given are all correct.\n",
    "\n",
    "**Note B**: Make sure you use the `pylintrc` file from Moodle for style checking (keep it in the same folder as your python file in Spyder so that style checking in Spyder automatically uses it as configuration file).\n",
    "\n",
    "**Note C**: Copy your final solution back into the cell below so that the tests can run."
   ]
  },
  {
   "cell_type": "code",
   "execution_count": 1,
   "id": "f124211f",
   "metadata": {
    "deletable": false,
    "nbgrader": {
     "cell_type": "code",
     "checksum": "4958c7fba0501c2975af2649ab8766be",
     "grade": false,
     "grade_id": "Q2Code",
     "locked": false,
     "schema_version": 3,
     "solution": true,
     "task": false
    }
   },
   "outputs": [
    {
     "name": "stdout",
     "output_type": "stream",
     "text": [
      "True values: amplitude = 2.5; decay = 1.3; constant = 0.5\n",
      "Best fit parameter:  2.795265613628212  ; 1.5196157165831823  ; 0.544863839763501\n",
      "Fit errors:  0.1903577373111912  ; 0.20890246585849764  ; 0.07017959997997712\n"
     ]
    },
    {
     "data": {
      "image/png": "[encoded data removed]",
      "text/plain": [
       "<Figure size 432x288 with 1 Axes>"
      ]
     },
     "metadata": {
      "needs_background": "light"
     },
     "output_type": "display_data"
    }
   ],
   "source": [
    "'''\n",
    "Script:\n",
    "Demonstrate the curve_fit function from SciPy.\n",
    "\n",
    "This example contains faults but also one physics blunder!\n",
    "'''\n",
    "\n",
    "from math import sqrt\n",
    "import numpy as np\n",
    "from scipy.optimize import curve_fit\n",
    "# import only curve_fit\n",
    "import matplotlib.pyplot as plt\n",
    "\n",
    "def fitFunc(time, amplitude, decay, constant):\n",
    "    '''Our function that we want to fit'''\n",
    "    return amplitude * np.exp(-decay * time) + constant\n",
    "\n",
    "\n",
    "# produce artificial data first from the function\n",
    "x = np.linspace(0, 4, 50)\n",
    "t = fitFunc(x, 2.5, 1.3, 0.5)\n",
    "\n",
    "# add noise to the data using random numbers\n",
    "noisy = t + 0.2 * t * np.random.normal(size=len(t))\n",
    "\n",
    "# invoke the scipy function\n",
    "# fit the noisy data\n",
    "results = curve_fit(fitFunc, x, noisy)\n",
    "fitParams = results[0]\n",
    "fitErrors = results[1]\n",
    "\n",
    "print('True values: amplitude = 2.5; decay = 1.3; constant = 0.5')\n",
    "print('Best fit parameter: ', fitParams[0], ' ;', fitParams[1], ' ;',\n",
    "      fitParams[2])\n",
    "print('Fit errors: ', sqrt(fitErrors[0, 0]), ' ;', sqrt(fitErrors[1, 1]), ' ;',\n",
    "      sqrt(fitErrors[2, 2]))\n",
    "\n",
    "# plot the noisy data and the fit result together\n",
    "plt.title('Temperature against Time')\n",
    "plt.ylabel('Temperature (C)', fontsize=14)\n",
    "plt.xlabel('Time (s)', fontsize=14)\n",
    "plt.errorbar(x, noisy, fmt='bo', yerr=0.2*t)\n",
    "plt.plot(x, fitFunc(x, fitParams[0], fitParams[1], fitParams[2]), 'r-')\n",
    "plt.show()\n"
   ]
  },
  {
   "cell_type": "code",
   "execution_count": 2,
   "id": "e8ea59c6",
   "metadata": {
    "deletable": false,
    "editable": false,
    "nbgrader": {
     "cell_type": "code",
     "checksum": "ccb27119442bc68555ee51b6ed9efaa1",
     "grade": true,
     "grade_id": "Q2test",
     "locked": true,
     "points": 1,
     "schema_version": 3,
     "solution": false,
     "task": false
    }
   },
   "outputs": [],
   "source": [
    "# test\n",
    "assert (fitFunc(0.0, 1.0, 1.0, 0.0) > 0.0)"
   ]
  },
  {
   "cell_type": "markdown",
   "id": "46ec72cf",
   "metadata": {
    "deletable": false,
    "editable": false,
    "nbgrader": {
     "cell_type": "markdown",
     "checksum": "abe8cb1a95c72b508512b8184fe0cdb4",
     "grade": false,
     "grade_id": "cell-d4d3d8f4739ac507",
     "locked": true,
     "schema_version": 3,
     "solution": false,
     "task": false
    },
    "tags": []
   },
   "source": [
    "### Tests - 1 mark; Style - 1 mark; Plot - 1 mark"
   ]
  }
 ],
 "metadata": {
  "kernelspec": {
   "display_name": "Python 3 (ipykernel)",
   "language": "python",
   "name": "python3"
  },
  "language_info": {
   "codemirror_mode": {
    "name": "ipython",
    "version": 3
   },
   "file_extension": ".py",
   "mimetype": "text/x-python",
   "name": "python",
   "nbconvert_exporter": "python",
   "pygments_lexer": "ipython3",
   "version": "3.9.7"
  }
 },
 "nbformat": 4,
 "nbformat_minor": 5
}
