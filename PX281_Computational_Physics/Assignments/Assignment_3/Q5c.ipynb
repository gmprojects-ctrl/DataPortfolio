{
 "cells": [
  {
   "cell_type": "markdown",
   "metadata": {},
   "source": [
    "Before you turn this problem in, make sure everything runs as expected. First, **restart the kernel** (in the menubar, select Kernel$\\rightarrow$Restart) and then **run all cells** (in the menubar, select Cell$\\rightarrow$Run All).\n",
    "\n",
    "Make sure you fill in any place that says `YOUR CODE HERE` or \"YOUR ANSWER HERE\".\n",
    "\n",
    "Do not edit or insert code into the test cells as all you insert will be overwritten by the automated testing code."
   ]
  },
  {
   "cell_type": "markdown",
   "metadata": {},
   "source": [
    "---"
   ]
  },
  {
   "cell_type": "markdown",
   "metadata": {
    "deletable": false,
    "editable": false,
    "nbgrader": {
     "cell_type": "markdown",
     "checksum": "4f5a7774e477fa104c842a0d864140a3",
     "grade": false,
     "grade_id": "cell-0a1d6cc6c5df1815",
     "locked": true,
     "schema_version": 3,
     "solution": false
    }
   },
   "source": [
    "**Question 5**: The Maxwell (or Maxwell-Boltzmann) distribution gives the distribution of speeds of molecules in thermal equilibrium as given by statistical mechanics. The distribution function is given as $$p(v)=\\sqrt{\\frac{2}{\\pi}}\\,\\frac{v^{2}\\,\\exp\\left(-\\frac{v^{2}}{2\\,a^{2}}\\right)}{a^{3}}$$ with speed $v$ and $$a=\\sqrt{\\frac{k\\,T}{m}}$$ and $k$ the Boltzmann constant, $T$ the temperature and $m$ the atomic mass of the molecules. \n",
    "\n",
    "Consider the SciPy function `scipy.stats.maxwell` which permits to draw random speed values from a Maxwell distribution. Given a value for the parameter $a$, the speed distribution can be used as `sample = maxwell.rvs(scale=a, size=1000)` to obtain a thousand random speeds from the Maxwell distribution with the correct temperature and molecule mass. Use the `scipy.constants` library to define the molecule mass in atomic mass units in kg and obtain the correct Boltzmann constant. Use SI units throughout.\n",
    "\n",
    "**Task**: **(a)** Write a function `samples(T1, T2, mass)` which draws two samples of 1000 random speed values each from the Maxwell distribution with temperatures $T_{1}$ and $T_{2}$ and atomic mass in units of kg as input. \n",
    "\n",
    "The first sample should represent Helium gas molecule speeds at room temperature ($T_{1}=290\\,$K), the second cold Helium liquid at $T_{2}=4.2\\,$K. Use the `scipy.constants` library to define the Helium molecule mass at 4 atomic mass units in kg.\n",
    "\n",
    "**(b)** Write a function `doCollision(ncoll, sample1, sample2)` which takes the number of simulated collisions as input as well as the two prepared samples. For each collision simulation create a random pair from members of both samples and determine the absolute **energy** difference. Add half the energy difference to the slower molecule and subtract half the energy difference from the faster molecule so that in the end both have the same energy. Then obtain the speed of the individual molecules from their energy and change it in the speed sample array accordingly for both and collide the next pair. Merge the distributions into one and return the combined distribution.\n",
    "\n",
    "Simulate $10^{4}$ collisions between the hot and cold Helium and print the final temperature value, calculated from the final mean value. The mean value of the Maxwell distribution in the notation from above is given as $$\\mu=2\\,a\\,\\sqrt{\\frac{2}{\\pi}}.$$ Plot the merged speed distribution histogram (20 bins are recommended) with appropriate axes labels and title."
   ]
  },
  {
   "cell_type": "code",
   "execution_count": 1,
   "metadata": {
    "deletable": false,
    "nbgrader": {
     "cell_type": "code",
     "checksum": "e02683f2697c7e393bea5a40d0fbc7ca",
     "grade": false,
     "grade_id": "Q5Code",
     "locked": false,
     "schema_version": 3,
     "solution": true
    }
   },
   "outputs": [
    {
     "name": "stdout",
     "output_type": "stream",
     "text": [
      "The mean temperature is 165.63039807045345K\n"
     ]
    },
    {
     "data": {
      "image/png": "[encoded data removed]",
      "text/plain": [
       "<Figure size 1152x648 with 1 Axes>"
      ]
     },
     "metadata": {
      "needs_background": "light"
     },
     "output_type": "display_data"
    }
   ],
   "source": [
    "# YOUR CODE HERE\n",
    "''' Question 5'''\n",
    "from math import sqrt, pi\n",
    "import numpy as np\n",
    "from scipy.stats import maxwell\n",
    "import scipy.constants as pc\n",
    "import matplotlib.pyplot as plt\n",
    "\n",
    "\n",
    "def k(v):\n",
    "    ''' Kinetic Energy'''\n",
    "    return 1/2 * 4 * pc.u * (v**2)\n",
    "\n",
    "\n",
    "def k_(En):\n",
    "    ''' Reverse Kinetic Energy '''\n",
    "    return np.sqrt(2*En / (4*pc.u))\n",
    "\n",
    "\n",
    "def samples(T1, T2, mass):\n",
    "    ''' Sampling Function '''\n",
    "    a1 = np.sqrt((pc.k * T1)/mass)\n",
    "    a2 = np.sqrt((pc.k * T2) / mass)\n",
    "    return (maxwell.rvs(scale=a1, size=1000),\n",
    "            maxwell.rvs(scale=a2, size=1000))\n",
    "\n",
    "\n",
    "def doCollision(ncoll, sample1, sample2):\n",
    "    ''' Collision Simulation '''\n",
    "    for _ in range(ncoll):\n",
    "        s1 = np.random.randint(len(sample1))\n",
    "        s2 = np.random.randint(len(sample2))\n",
    "        e_1 = k(sample1[s1])\n",
    "        e_2 = k(sample2[s2])\n",
    "        news = np.abs(e_1-e_2)/2\n",
    "        if sample1[s1] > sample2[s2]:\n",
    "            sample1[s1] = k_(e_1-news)\n",
    "            sample2[s2] = k_(e_2+news)\n",
    "        else:\n",
    "            sample1[s1] = k_(e_1+news)\n",
    "            sample2[s2] = k_(e_2-news)\n",
    "    return np.append(sample1, sample2)\n",
    "\n",
    "\n",
    "m = 4.0*pc.u\n",
    "wh, ch = samples(290, 4.2, m)\n",
    "final = doCollision(10000, wh, ch)\n",
    "T = (np.mean(final)/2.0*sqrt(pi/2))**2 * m / pc.k\n",
    "print(f\"The mean temperature is {T}K\")\n",
    "plt.figure(figsize=(16, 9))\n",
    "plt.title(\"Maxwell-Boltzmann Distribution after collision\", fontsize=18)\n",
    "plt.ylabel(\"Density\", fontsize=15)\n",
    "plt.xlabel(\"Speed in m/s\", fontsize=15)\n",
    "plt.hist(final, bins=50, density=True)\n",
    "plt.grid(True)\n",
    "plt.show()\n"
   ]
  },
  {
   "cell_type": "code",
   "execution_count": 2,
   "metadata": {
    "deletable": false,
    "editable": false,
    "nbgrader": {
     "cell_type": "code",
     "checksum": "d560c0015f982d44154ef1765547048f",
     "grade": true,
     "grade_id": "Q5TestA",
     "locked": true,
     "points": 1,
     "schema_version": 3,
     "solution": false
    }
   },
   "outputs": [],
   "source": [
    "# Test cell\n",
    "import scipy.constants as pc\n",
    "m = 4.0*pc.u\n",
    "wh, ch = samples(290, 4.2, m)\n",
    "assert (len(wh)==1000), 'wrong sample size'"
   ]
  },
  {
   "cell_type": "code",
   "execution_count": 3,
   "metadata": {
    "deletable": false,
    "editable": false,
    "nbgrader": {
     "cell_type": "code",
     "checksum": "f03b591386df4cdbbbdbc90e10ee062a",
     "grade": true,
     "grade_id": "Q5TestB",
     "locked": true,
     "points": 1,
     "schema_version": 3,
     "solution": false
    }
   },
   "outputs": [],
   "source": [
    "# Test cell\n",
    "import numpy as np\n",
    "assert (np.mean(wh)>1200.0 and np.mean(wh)<1300.0), 'wrong room temperature helium distribution'\n",
    "assert (np.mean(ch)>130.0 and np.mean(ch)<155.0), 'wrong cold temperature helium distribution'"
   ]
  },
  {
   "cell_type": "code",
   "execution_count": 4,
   "metadata": {
    "deletable": false,
    "editable": false,
    "nbgrader": {
     "cell_type": "code",
     "checksum": "14904135b8ac95207fd56360cf45061b",
     "grade": true,
     "grade_id": "Q5TestC",
     "locked": true,
     "points": 1,
     "schema_version": 3,
     "solution": false
    }
   },
   "outputs": [],
   "source": [
    "# Test cell\n",
    "from math import sqrt, pi\n",
    "final = doCollision(10000, wh, ch)\n",
    "T = (np.mean(final)/2.0*sqrt(pi/2))**2 * m / pc.k\n",
    "assert (T>165.0 and T<190.0), 'wrong final temperature'"
   ]
  },
  {
   "cell_type": "markdown",
   "metadata": {
    "deletable": false,
    "editable": false,
    "nbgrader": {
     "cell_type": "markdown",
     "checksum": "5e532da1bea1ae6ef3d4b1582e54d3d9",
     "grade": false,
     "grade_id": "cell-a1d21a0b40415b41",
     "locked": true,
     "schema_version": 3,
     "solution": false
    }
   },
   "source": [
    "### Tests 3 marks; Style 1 mark; Plot - 2 marks"
   ]
  }
 ],
 "metadata": {
  "kernelspec": {
   "display_name": "Python 3 (ipykernel)",
   "language": "python",
   "name": "python3"
  },
  "language_info": {
   "codemirror_mode": {
    "name": "ipython",
    "version": 3
   },
   "file_extension": ".py",
   "mimetype": "text/x-python",
   "name": "python",
   "nbconvert_exporter": "python",
   "pygments_lexer": "ipython3",
   "version": "3.9.7"
  }
 },
 "nbformat": 4,
 "nbformat_minor": 4
}
