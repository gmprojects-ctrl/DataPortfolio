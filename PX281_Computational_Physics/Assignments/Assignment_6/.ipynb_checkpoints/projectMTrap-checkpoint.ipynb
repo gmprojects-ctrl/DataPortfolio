{
 "cells": [
  {
   "cell_type": "markdown",
   "id": "720d4a27",
   "metadata": {},
   "source": [
    "Before you turn this problem in, make sure everything runs as expected. First, **restart the kernel** (in the menubar, select Kernel$\\rightarrow$Restart) and then **run all cells** (in the menubar, select Cell$\\rightarrow$Run All).\n",
    "\n",
    "Make sure you fill in any place that says `YOUR CODE HERE` or \"YOUR ANSWER HERE\".\n",
    "\n",
    "Do not edit or insert code into the test cells as all you insert will be overwritten by the automated testing code."
   ]
  },
  {
   "cell_type": "markdown",
   "id": "6297dac6",
   "metadata": {},
   "source": [
    "---"
   ]
  },
  {
   "cell_type": "markdown",
   "id": "b65e51a6",
   "metadata": {
    "deletable": false,
    "editable": false,
    "nbgrader": {
     "cell_type": "markdown",
     "checksum": "014f85daff4ba7c1d0ddefecd1ac2cf7",
     "grade": false,
     "grade_id": "cell-7a11cc52983be8b5",
     "locked": true,
     "schema_version": 3,
     "solution": false,
     "task": false
    }
   },
   "source": [
    "### Charge motion in a Magnetic Trap project\n",
    "Model the motion of a relativistic electron in a magnetic trap.\n",
    "\n",
    "The cyclotron radiation emission technique measures the electron kinetic energy using frequency as the observable because frequency can be measured with unprecedented precision compared to other observables. \n",
    "\n",
    "The electron will experience the Lorentz force due to the magnetic field, $\\vec{B}$, and propagate along a helical trajectory. That motion consists of motion along the magnetic field direction and oscillating motion perpendicular to the magnetic field direction in case the velocity vector is not perfectly parallel to the B-field. That oscillating, circular motion is called cyclotron motion and produces radiation with a characteristic cyclotron frequency, $\\vec{\\omega} = \\frac{q\\,\\vec{B}}{m_{e}}$ (an angular frequency vector). The cyclotron angular frequency is the magnitude of the vector. The magnitude relates as usual to frequency according to $f=2\\,\\pi|\\vec{\\omega}|$. Here $q$ is the charge (the electron has $-e$), $m_{e}$ the electron mass and $c$ the speed of light.\n",
    "\n",
    "#### Project part 1\n",
    "Program the calculation of the magnetic field of a charge trap. \n",
    "- Place two single coils of wire at $\\pm{}10$ cm around the origin of the z-axis. Then add a strong constant magnetic field of 1 Tesla pointing in the +z-direction. This constitutes what is called a 'bathtub' trap for an electron starting at any point between the coils at a distance from the z-axis less than the coil radius. The modelling task, project part 2 below, will only use one of the two coils but assumes that the complete trap field is present.\n",
    "\n",
    "In cylindrical coordinates, the complete magnetic field components for a single wire coil centred on the z-axis with $z_{ref}=z-Z_{0}$, and $Z_{0}$ the centre z-coordinate of the coil is (R.C. Fernow, Principles of magnetostatics, ch.7, CUP)\n",
    "$$\n",
    "B_{r}(r,z) = \\frac{\\mu_{0}\\,I}{2\\,\\pi}\\,\\frac{z_{rel}}{r\\,\\sqrt{(R+r)^{2}+z_{rel}^{2}}} \\left[\\frac{R^{2}+r^{2}+z_{rel}^{2}}{(R-r)^{2}+z_{rel}^{2}}E(m)-K(m)\\right]\n",
    "$$ and\n",
    "$$\n",
    "B_{z}(r,z) = \\frac{\\mu_{0}\\,I}{2\\,\\pi}\\,\\frac{1}{\\sqrt{(R+r)^{2}+z_{rel}^{2}}} \\left[\\frac{R^{2}-r^{2}-z_{rel}^{2}}{(R-r)^{2}+z_{rel}^{2}}E(m)+K(m)\\right]\n",
    "$$ using $$m=\\frac{4\\,R\\,r}{(R+r)^{2}+z_{rel}^{2}}$$ as argument of the elliptic integral functions, where $E(m)$ is the complete elliptic integral of the second kind and $K(m)$ the complete elliptic integral of the first kind, see SciPy.special. Other symbols in this relation are, $R$ the coil radius in metre, $\\mu_{0}$ the vacuum permeability and $I$ the current through the coil in Ampere. Keeping to SI units is strongly recommended (giving magnetic field strengths in units of Tesla). The explicit exception from the rule should be the electron energy in units of keV. Fortunately, turning the unit eV into Joule only requires multiplying the energy with the elementary charge value.\n",
    "\n",
    "- Simplify and speed up the calculation by capturing special cases directly, rather than calculating the full fields as above for all cases, i.e. there is no radial B-field on the z-axis, $B_{r}(0,z)=0$, and the expression for the axial field component becomes a simple textbook formula, $B_{z}(0,z)=\\frac{\\mu_{0}\\,I\\,R^{2}}{2\\,(R^{2} + z_{rel}^{2})^{3/2}}$.\n",
    "\n",
    "- Plot the coil magnetic field magnitude against the z-coordinate value in the z-axis interval between $\\pm{}15$ cm for a range of radial distances (choose 5 radii from the interval (0 cm, 2.4 cm)). Set the current through the coil at 500 A (yes, not realistic, but neither is a single wire coil), place one coil at $z=-10$ cm centred on the z-axis and the second at $z=10$ cm. Each coild should have the identical coil radius $R=2.5$ cm. That should result in a few ten's of milli Tesla field strengths at the maximum and yield a nicely working magnetic trap for any charge released inside. In summary, the plot should show the requested axes, with labels, and five superimposed curves according to the chosen radial distances. \n",
    "\n",
    "#### Project part 2\n",
    "Now to modelling the charge in the trap. \n",
    "- Consider an electron released by $\\beta$-decay inside the 'bathtub' trap. Let the electron have a kinetic energy of $18.6$ keV. Calculate the speed of the electron and note that at that kinetic energy, it already moves sufficiently fast to consider relativistic kinematics. That speed calculation will be an essential part of fixing the inital condition for the velocity vector $\\vec{v}_{0}$.\n",
    "\n",
    "- The electron can be emitted in any direction but let's fix the initial position in cartesian coordinates at $\\vec{x}_{0}=(r_{0},0,0)$, i.e. at some distance $r_{0}$ from the z-axis (can also be zero). The specialisation on the x-axis makes no difference with the dominant B-field pointing purely in the z-direction.\n",
    "\n",
    "- The electron is moving mildly relativistic and it shows in the correct equations of motion, the Lorentz-Dirac (LD) equations. These generalise the simple Lorentz force from First-Year physics and contain radiation reaction terms. That is required since accelerated charges radiate electromagnetic waves which in turn affects the motion of the charge. Fortunately, the LD equation can be cast into a set of ODE's for the case of a pure magnetic field (i.e. no electric field) as follows (acceleration $\\vec{a}=d\\vec{v}/dt$; velocity $\\vec{v}=d\\vec{x}/dt$ and $\\vec{x}$ the electron location vector):\n",
    "\n",
    "$$\n",
    "\\gamma\\,||M||\\,a_{x} = (1+\\mu_{x}^{2}\\,\\gamma^{4}\\,\\tau^{2})\\,(\\omega_{z}v_{y}-\\omega_{y}v_{z})\n",
    " + (\\mu_{x}\\mu_{z}\\gamma^{4}\\tau^{2}-\\mu_{y}\\gamma^{2}\\tau)\\,(\\omega_{y}v_{x}-\\omega_{x}v_{y}) + (\\mu_{x}\\mu_{y}\\gamma^{4}\\tau^{2}+\\mu_{z}\\gamma^{2}\\tau)\\,(\\omega_{x}v_{z}-\\omega_{z}v_{x})\\\\\n",
    "$$\n",
    "$$\n",
    "\\gamma\\,||M||\\,a_{y} = (1+\\mu_{y}^{2}\\,\\gamma^{4}\\,\\tau^{2})\\,(\\omega_{x}v_{z}-\\omega_{z}v_{x}) \n",
    " + (\\mu_{y}\\mu_{z}\\gamma^{4}\\tau^{2}+\\mu_{x}\\gamma^{2}\\tau)\\,(\\omega_{y}v_{x}-\\omega_{x}v_{y}) + (\\mu_{x}\\mu_{y}\\gamma^{4}\\tau^{2}-\\mu_{z}\\gamma^{2}\\tau)\\,(\\omega_{z}v_{y}-\\omega_{y}v_{z})\\\\\n",
    "$$\n",
    "$$\n",
    "\\gamma\\,||M||\\,a_{z} = (1+\\mu_{z}^{2}\\,\\gamma^{4}\\,\\tau^{2})\\,(\\omega_{y}v_{x}-\\omega_{x}v_{y}) \n",
    " + (\\mu_{y}\\mu_{z}\\gamma^{4}\\tau^{2}-\\mu_{x}\\gamma^{2}\\tau)\\,(\\omega_{x}v_{z}-\\omega_{z}v_{x}) + (\\mu_{x}\\mu_{z}\\gamma^{4}\\tau^{2}+\\mu_{y}\\gamma^{2}\\tau)\\,(\\omega_{z}v_{y}-\\omega_{y}v_{z})\\\\\n",
    "$$\n",
    "with\n",
    "$$\n",
    "\\vec{\\mu}=\\vec{\\omega} - \\frac{\\vec{v}\\cdot\\vec{\\omega}}{c^{2}}\\,\\vec{v},\n",
    "$$\n",
    "and\n",
    "$$\n",
    "||M|| = 1+\\gamma^{4}\\tau^{2}|\\vec{\\mu}|^{2},\n",
    "$$\n",
    "the usual gamma factor $\\gamma=1/\\sqrt{1-\\frac{v^{2}}{c^{2}}}$ and the radiation reaction force factor $\\tau=q^{2}/(6\\,\\pi\\,m_{e}\\,\\epsilon_{0}\\,c^{3})$.\n",
    "\n",
    "- Solve the LD equations of motion numerically using the SciPy function solve_ivp. The initial condition on the coordinates is given above. You will notice that for most initial conditions on the velocity components, the trap is not closed, i.e. electrons escape beyond the $z=10$ cm coil. This condition is symmetrical around the origin hence from here on we only consider electron trajectories with respect to a single coil. If an electron bounces back at a single coil, it will do so again at its opposite counterpart.\n",
    "\n",
    "- Note that an initial velocity perpendicular to the z-axis will not propagate the electron towards a coil but it rotates around the origin. Therefore, set the maximum emission angle with respect to the z-axis at 89 degrees.\n",
    "\n",
    "- Likewise, restrict the radial distance to the z-axis for the point of emission to values less than 2.4 cm. This is because at the exact coil radius, there is a numerically critical point of the magnetic field at the position of the wire, i.e. at $z=10$ cm and $r=R$, which you should avoid hence the restriction above.\n",
    "\n",
    "- Scan the available parameter space in emission angle (hence $v_{0}$) and $r_{0}$ to capture all values leading to electron reflection at a single coil.\n",
    "\n",
    "- For the case of a reflected electron (bouncing) at a coil, determine the frequency (double inverse return time) of the bounce for each parameter value pair from above. In case of no bounce, store the frequency as zero in case your parameter scan space contains edge cases showing electrons just escaping the trap.\n",
    "\n",
    "- Plot the bounce frequency against the radial distance and emission angle in a 3D scatter plot with appropriate axis labels. Choose appropriate units for the plot, i.e. frequency units of MHz, angle units of degrees and radial distance units of cm.\n",
    "\n",
    "- Beware, this modelling task takes a long time to complete hence optimization is strongly recommended.\n",
    "\n",
    "#### Marking\n",
    "The first 5 out of 20 marks are awarded for the correct magnetic field magnitude plot from project part 1. \n",
    "\n",
    "A correct scatter plot summarises the success of the entire code solution hence attracts 10 out of 20 marks on this project. For orientation, the model solution scans 70 points in the parameter space and completes with optimization in about 11-15 minutes (depending on which machine runs the code). \n",
    "\n",
    "A correct scatter plot will show enough points to identify features of the bounce frequency as a function of emission angle and radial distance. The number of scan points and parameter space regions are left unspecified on purpose. Exploration of the parameter space and researching the behaviour of the above observables is an intended outcome hence attracts marks. Please print the maximum and minimum (larger than zero) of bounce frequencies to screen to ease the assessment.\n",
    "\n",
    "The final 5 marks are awarded for any optimization attempts since the pure python code will take a long time to run."
   ]
  },
  {
   "cell_type": "code",
   "execution_count": null,
   "id": "d4acad79",
   "metadata": {
    "deletable": false,
    "nbgrader": {
     "cell_type": "code",
     "checksum": "cea96285982825320a874d546bef849f",
     "grade": true,
     "grade_id": "CodeMTrap",
     "locked": false,
     "points": 20,
     "schema_version": 3,
     "solution": true,
     "task": false
    }
   },
   "outputs": [],
   "source": [
    "\"\"\"\n",
    "Relativistic electron cyclotron motion in a magnetic trap\n",
    "\"\"\"\n",
    "# YOUR CODE HERE"
   ]
  }
 ],
 "metadata": {
  "kernelspec": {
   "display_name": "Python 3 (ipykernel)",
   "language": "python",
   "name": "python3"
  },
  "language_info": {
   "codemirror_mode": {
    "name": "ipython",
    "version": 3
   },
   "file_extension": ".py",
   "mimetype": "text/x-python",
   "name": "python",
   "nbconvert_exporter": "python",
   "pygments_lexer": "ipython3",
   "version": "3.8.6"
  }
 },
 "nbformat": 4,
 "nbformat_minor": 5
}
